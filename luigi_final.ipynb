{
  "nbformat": 4,
  "nbformat_minor": 0,
  "metadata": {
    "colab": {
      "provenance": []
    },
    "kernelspec": {
      "name": "python3",
      "display_name": "Python 3"
    },
    "language_info": {
      "name": "python"
    }
  },
  "cells": [
    {
      "cell_type": "code",
      "source": [
        "!pip install luigi\n",
        "!pip install wget\n"
      ],
      "metadata": {
        "colab": {
          "base_uri": "https://localhost:8080/"
        },
        "id": "rmCZ1ica8FZc",
        "outputId": "6b9bad64-d74c-4ca5-a6e5-07991e06fc3c"
      },
      "execution_count": 1,
      "outputs": [
        {
          "output_type": "stream",
          "name": "stdout",
          "text": [
            "Looking in indexes: https://pypi.org/simple, https://us-python.pkg.dev/colab-wheels/public/simple/\n",
            "Collecting luigi\n",
            "  Downloading luigi-3.3.0.tar.gz (1.2 MB)\n",
            "\u001b[2K     \u001b[90m━━━━━━━━━━━━━━━━━━━━━━━━━━━━━━━━━━━━━━━━\u001b[0m \u001b[32m1.2/1.2 MB\u001b[0m \u001b[31m12.9 MB/s\u001b[0m eta \u001b[36m0:00:00\u001b[0m\n",
            "\u001b[?25h  Preparing metadata (setup.py) ... \u001b[?25l\u001b[?25hdone\n",
            "Requirement already satisfied: python-dateutil<3,>=2.7.5 in /usr/local/lib/python3.10/dist-packages (from luigi) (2.8.2)\n",
            "Requirement already satisfied: tenacity<9,>=8 in /usr/local/lib/python3.10/dist-packages (from luigi) (8.2.2)\n",
            "Collecting python-daemon (from luigi)\n",
            "  Downloading python_daemon-3.0.1-py3-none-any.whl (31 kB)\n",
            "Requirement already satisfied: tornado<7,>=5.0 in /usr/local/lib/python3.10/dist-packages (from luigi) (6.3.1)\n",
            "Requirement already satisfied: six>=1.5 in /usr/local/lib/python3.10/dist-packages (from python-dateutil<3,>=2.7.5->luigi) (1.16.0)\n",
            "Requirement already satisfied: docutils in /usr/local/lib/python3.10/dist-packages (from python-daemon->luigi) (0.16)\n",
            "Collecting lockfile>=0.10 (from python-daemon->luigi)\n",
            "  Downloading lockfile-0.12.2-py2.py3-none-any.whl (13 kB)\n",
            "Requirement already satisfied: setuptools>=62.4.0 in /usr/local/lib/python3.10/dist-packages (from python-daemon->luigi) (67.7.2)\n",
            "Building wheels for collected packages: luigi\n",
            "  Building wheel for luigi (setup.py) ... \u001b[?25l\u001b[?25hdone\n",
            "  Created wheel for luigi: filename=luigi-3.3.0-py3-none-any.whl size=1085292 sha256=4107fdb247cf9fd261e7ec516cb9f1d938599e0262feed406c2b87278a7e96c4\n",
            "  Stored in directory: /root/.cache/pip/wheels/1b/3b/d5/c999c34bd8478e559f006b83333be40ddf5fab360cf2c6f720\n",
            "Successfully built luigi\n",
            "Installing collected packages: lockfile, python-daemon, luigi\n",
            "Successfully installed lockfile-0.12.2 luigi-3.3.0 python-daemon-3.0.1\n",
            "Looking in indexes: https://pypi.org/simple, https://us-python.pkg.dev/colab-wheels/public/simple/\n",
            "Collecting wget\n",
            "  Downloading wget-3.2.zip (10 kB)\n",
            "  Preparing metadata (setup.py) ... \u001b[?25l\u001b[?25hdone\n",
            "Building wheels for collected packages: wget\n",
            "  Building wheel for wget (setup.py) ... \u001b[?25l\u001b[?25hdone\n",
            "  Created wheel for wget: filename=wget-3.2-py3-none-any.whl size=9657 sha256=4d983e5276f8765eb527a1e46b0948134b0a00244669f8dd0efad4ce914de41e\n",
            "  Stored in directory: /root/.cache/pip/wheels/8b/f1/7f/5c94f0a7a505ca1c81cd1d9208ae2064675d97582078e6c769\n",
            "Successfully built wget\n",
            "Installing collected packages: wget\n",
            "Successfully installed wget-3.2\n"
          ]
        }
      ]
    },
    {
      "cell_type": "code",
      "source": [
        "import urllib.request\n",
        "import os\n",
        "import tarfile\n",
        "import gzip\n",
        "import luigi\n",
        "import io\n",
        "import pandas as pd"
      ],
      "metadata": {
        "id": "pHDMHh-yGs_i"
      },
      "execution_count": 2,
      "outputs": []
    },
    {
      "cell_type": "code",
      "source": [
        "BASE_URL = \"https://ftp.ncbi.nlm.nih.gov/geo/series/GSE68nnn/GSE68849/suppl/\"\n",
        "RAW_TAR = \"GSE68849_RAW.tar\""
      ],
      "metadata": {
        "id": "-n-PDotQGyn_"
      },
      "execution_count": 3,
      "outputs": []
    },
    {
      "cell_type": "code",
      "source": [
        "class DownloadRawData(luigi.Task):\n",
        "    dataset_name = luigi.Parameter()\n",
        "    base_url = BASE_URL\n",
        "\n",
        "    def output(self):\n",
        "        return luigi.LocalTarget(os.path.join('data/', self.dataset_name, RAW_TAR))\n",
        "\n",
        "    def run(self):\n",
        "        os.makedirs(os.path.join('data/', self.dataset_name), exist_ok=True)\n",
        "        urllib.request.urlretrieve(os.path.join(self.base_url, RAW_TAR), os.path.join('data/', self.dataset_name, RAW_TAR))"
      ],
      "metadata": {
        "id": "I-bze7wQG2hd"
      },
      "execution_count": 4,
      "outputs": []
    },
    {
      "cell_type": "code",
      "source": [
        "class ExtractGzFiles(luigi.Task):\n",
        "    dataset_name= luigi.Parameter()\n",
        "\n",
        "    def requires(self):\n",
        "        return DownloadRawData(dataset_name=self.dataset_name)\n",
        "\n",
        "    def output(self):\n",
        "        return luigi.LocalTarget(os.path.join('data/', self.dataset_name, 'gz_files'))\n",
        "\n",
        "    def run(self):\n",
        "        raw_tar_path = os.path.join('data/', self.dataset_name, RAW_TAR)\n",
        "        extracted_folder_path = os.path.join('data/', self.dataset_name, 'gz_files')\n",
        "        os.makedirs(extracted_folder_path, exist_ok=True)\n",
        "\n",
        "        with tarfile.open(raw_tar_path, 'r') as tar:\n",
        "            tar.extractall(path=extracted_folder_path)"
      ],
      "metadata": {
        "id": "iuy7SxzjHZjH"
      },
      "execution_count": 5,
      "outputs": []
    },
    {
      "cell_type": "code",
      "source": [
        "class ExtractTxt(luigi.Task):\n",
        "    dataset_name= luigi.Parameter()\n",
        "\n",
        "    def requires(self):\n",
        "        return ExtractGzFiles(dataset_name=self.dataset_name)\n",
        "\n",
        "    def output(self):\n",
        "        return luigi.LocalTarget(os.path.join('data/', self.dataset_name, 'txt_files'))\n",
        "\n",
        "    def run(self):\n",
        "        extracted_folder_path = os.path.join('data/', self.dataset_name, 'gz_files')\n",
        "        txt_files_path = os.path.join('data/', self.dataset_name, 'txt_files')\n",
        "        os.makedirs(txt_files_path, exist_ok=True)\n",
        "\n",
        "        for root, dirs, files in os.walk(extracted_folder_path):\n",
        "            for file in files:\n",
        "                if file.endswith(\".gz\"):\n",
        "                    gz_path = os.path.join(root, file)\n",
        "                    with gzip.open(gz_path, 'rt') as f:\n",
        "                        content = f.read()\n",
        "                        tables = content.split(\"\\n\\n\")\n",
        "                        for i, table in enumerate(tables):\n",
        "                            table_path = os.path.join(txt_files_path, f\"{file[:-7]}_{i+1}.txt\")\n",
        "                            with open(table_path, \"w\") as txt_file:\n",
        "                                txt_file.write(table)\n"
      ],
      "metadata": {
        "id": "h_6eQLHGHsFB"
      },
      "execution_count": 9,
      "outputs": []
    },
    {
      "cell_type": "code",
      "source": [
        "class SplitTables(luigi.Task):\n",
        "    dataset_name = luigi.Parameter()\n",
        "    \n",
        "    def requires(self):\n",
        "        return ExtractTxt(self.dataset_name)\n",
        "    \n",
        "    def output(self):\n",
        "        return luigi.LocalTarget(f'data/{self.dataset_name}/tables/Probes_reduced.tsv')\n",
        "    \n",
        "    def run(self):\n",
        "        extracted_folder_path = os.path.join('data/', self.dataset_name, 'txt_files')\n",
        "        \n",
        "        # Organize the files into subdirectories\n",
        "        os.makedirs(f'data/{self.dataset_name}/tables', exist_ok=True)\n",
        "        dfs = {}\n",
        "        for file in os.listdir(extracted_folder_path):\n",
        "            file_path = os.path.join(extracted_folder_path, file)\n",
        "            if file.endswith('.txt'):\n",
        "                with open(file_path) as f:\n",
        "                    write_key = None\n",
        "                    fio = io.StringIO()\n",
        "                    for l in f.readlines():\n",
        "                        if l.startswith('['):\n",
        "                            if write_key:\n",
        "                                fio.seek(0)\n",
        "                                header = None if write_key == 'Heading' else 'infer'\n",
        "                                df = pd.read_csv(fio, sep='\\t', header=header)\n",
        "                                dfs[write_key] = df\n",
        "                                df.to_csv(f'data/{self.dataset_name}/tables/{write_key}.tsv', sep='\\t', index=False)\n",
        "                            fio = io.StringIO()\n",
        "                            write_key = l.strip('[]\\n')\n",
        "                            continue\n",
        "                        if write_key:\n",
        "                            fio.write(l)\n",
        "                    fio.seek(0)\n",
        "                    df = pd.read_csv(fio, sep='\\t')\n",
        "                    dfs[write_key] = df\n",
        "                    df.to_csv(f'data/{self.dataset_name}/tables/{write_key}.tsv', sep='\\t', index=False)\n",
        "\n",
        "        probes_df = dfs['Probes']\n",
        "        probes_df.drop(['Definition', 'Ontology_Component', 'Ontology_Process', 'Ontology_Function', 'Synonyms', 'Obsolete_Probe_Id', 'Probe_Sequence'], axis=1, inplace=True)\n",
        "        probes_df.to_csv(f'data/{self.dataset_name}/tables/Probes_reduced.tsv', sep='\\t', index=False)\n"
      ],
      "metadata": {
        "id": "mpf4T9CzNFIP"
      },
      "execution_count": 10,
      "outputs": []
    },
    {
      "cell_type": "code",
      "source": [
        "if __name__ == '__main__':\n",
        "    # запускаем задачу на обработку таблицы Probes\n",
        "    luigi.build([SplitTables(dataset_name='GSE68849')], local_scheduler=True)"
      ],
      "metadata": {
        "colab": {
          "base_uri": "https://localhost:8080/"
        },
        "id": "P4JHdydTG7IJ",
        "outputId": "bd3d2532-5da3-415f-de56-d570a48e28d6"
      },
      "execution_count": 12,
      "outputs": [
        {
          "output_type": "stream",
          "name": "stderr",
          "text": [
            "DEBUG: Checking if SplitTables(dataset_name=GSE68849) is complete\n",
            "DEBUG:luigi-interface:Checking if SplitTables(dataset_name=GSE68849) is complete\n",
            "DEBUG: Checking if ExtractTxt(dataset_name=GSE68849) is complete\n",
            "DEBUG:luigi-interface:Checking if ExtractTxt(dataset_name=GSE68849) is complete\n",
            "INFO: Informed scheduler that task   SplitTables_GSE68849_e34547c091   has status   PENDING\n",
            "INFO:luigi-interface:Informed scheduler that task   SplitTables_GSE68849_e34547c091   has status   PENDING\n",
            "DEBUG: Checking if ExtractGzFiles(dataset_name=GSE68849) is complete\n",
            "DEBUG:luigi-interface:Checking if ExtractGzFiles(dataset_name=GSE68849) is complete\n",
            "INFO: Informed scheduler that task   ExtractTxt_GSE68849_e34547c091   has status   PENDING\n",
            "INFO:luigi-interface:Informed scheduler that task   ExtractTxt_GSE68849_e34547c091   has status   PENDING\n",
            "INFO: Informed scheduler that task   ExtractGzFiles_GSE68849_e34547c091   has status   DONE\n",
            "INFO:luigi-interface:Informed scheduler that task   ExtractGzFiles_GSE68849_e34547c091   has status   DONE\n",
            "INFO: Done scheduling tasks\n",
            "INFO:luigi-interface:Done scheduling tasks\n",
            "INFO: Running Worker with 1 processes\n",
            "INFO:luigi-interface:Running Worker with 1 processes\n",
            "DEBUG: Asking scheduler for work...\n",
            "DEBUG:luigi-interface:Asking scheduler for work...\n",
            "DEBUG: Pending tasks: 2\n",
            "DEBUG:luigi-interface:Pending tasks: 2\n",
            "INFO: [pid 847] Worker Worker(salt=9851746297, workers=1, host=903d85551281, username=root, pid=847) running   ExtractTxt(dataset_name=GSE68849)\n",
            "INFO:luigi-interface:[pid 847] Worker Worker(salt=9851746297, workers=1, host=903d85551281, username=root, pid=847) running   ExtractTxt(dataset_name=GSE68849)\n",
            "INFO: [pid 847] Worker Worker(salt=9851746297, workers=1, host=903d85551281, username=root, pid=847) done      ExtractTxt(dataset_name=GSE68849)\n",
            "INFO:luigi-interface:[pid 847] Worker Worker(salt=9851746297, workers=1, host=903d85551281, username=root, pid=847) done      ExtractTxt(dataset_name=GSE68849)\n",
            "DEBUG: 1 running tasks, waiting for next task to finish\n",
            "DEBUG:luigi-interface:1 running tasks, waiting for next task to finish\n",
            "INFO: Informed scheduler that task   ExtractTxt_GSE68849_e34547c091   has status   DONE\n",
            "INFO:luigi-interface:Informed scheduler that task   ExtractTxt_GSE68849_e34547c091   has status   DONE\n",
            "DEBUG: Asking scheduler for work...\n",
            "DEBUG:luigi-interface:Asking scheduler for work...\n",
            "DEBUG: Pending tasks: 1\n",
            "DEBUG:luigi-interface:Pending tasks: 1\n",
            "INFO: [pid 847] Worker Worker(salt=9851746297, workers=1, host=903d85551281, username=root, pid=847) running   SplitTables(dataset_name=GSE68849)\n",
            "INFO:luigi-interface:[pid 847] Worker Worker(salt=9851746297, workers=1, host=903d85551281, username=root, pid=847) running   SplitTables(dataset_name=GSE68849)\n",
            "INFO: [pid 847] Worker Worker(salt=9851746297, workers=1, host=903d85551281, username=root, pid=847) done      SplitTables(dataset_name=GSE68849)\n",
            "INFO:luigi-interface:[pid 847] Worker Worker(salt=9851746297, workers=1, host=903d85551281, username=root, pid=847) done      SplitTables(dataset_name=GSE68849)\n",
            "DEBUG: 1 running tasks, waiting for next task to finish\n",
            "DEBUG:luigi-interface:1 running tasks, waiting for next task to finish\n",
            "INFO: Informed scheduler that task   SplitTables_GSE68849_e34547c091   has status   DONE\n",
            "INFO:luigi-interface:Informed scheduler that task   SplitTables_GSE68849_e34547c091   has status   DONE\n",
            "DEBUG: Asking scheduler for work...\n",
            "DEBUG:luigi-interface:Asking scheduler for work...\n",
            "DEBUG: Done\n",
            "DEBUG:luigi-interface:Done\n",
            "DEBUG: There are no more tasks to run at this time\n",
            "DEBUG:luigi-interface:There are no more tasks to run at this time\n",
            "INFO: Worker Worker(salt=9851746297, workers=1, host=903d85551281, username=root, pid=847) was stopped. Shutting down Keep-Alive thread\n",
            "INFO:luigi-interface:Worker Worker(salt=9851746297, workers=1, host=903d85551281, username=root, pid=847) was stopped. Shutting down Keep-Alive thread\n",
            "INFO: \n",
            "===== Luigi Execution Summary =====\n",
            "\n",
            "Scheduled 3 tasks of which:\n",
            "* 1 complete ones were encountered:\n",
            "    - 1 ExtractGzFiles(dataset_name=GSE68849)\n",
            "* 2 ran successfully:\n",
            "    - 1 ExtractTxt(dataset_name=GSE68849)\n",
            "    - 1 SplitTables(dataset_name=GSE68849)\n",
            "\n",
            "This progress looks :) because there were no failed tasks or missing dependencies\n",
            "\n",
            "===== Luigi Execution Summary =====\n",
            "\n",
            "INFO:luigi-interface:\n",
            "===== Luigi Execution Summary =====\n",
            "\n",
            "Scheduled 3 tasks of which:\n",
            "* 1 complete ones were encountered:\n",
            "    - 1 ExtractGzFiles(dataset_name=GSE68849)\n",
            "* 2 ran successfully:\n",
            "    - 1 ExtractTxt(dataset_name=GSE68849)\n",
            "    - 1 SplitTables(dataset_name=GSE68849)\n",
            "\n",
            "This progress looks :) because there were no failed tasks or missing dependencies\n",
            "\n",
            "===== Luigi Execution Summary =====\n",
            "\n"
          ]
        }
      ]
    }
  ]
}